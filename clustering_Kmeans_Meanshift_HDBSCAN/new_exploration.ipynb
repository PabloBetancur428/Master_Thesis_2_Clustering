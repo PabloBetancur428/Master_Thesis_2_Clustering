{
 "cells": [
  {
   "cell_type": "code",
   "execution_count": 1,
   "metadata": {},
   "outputs": [
    {
     "name": "stderr",
     "output_type": "stream",
     "text": [
      "/tmp/ipykernel_1662093/1972457494.py:2: DtypeWarning: Columns (647) have mixed types. Specify dtype option on import or set low_memory=False.\n",
      "  features_df = pd.read_csv(\"/home/jbetancur/Desktop/codes/clustering/feature_extraction/output/wavelet_pyradiomic_aggregated_lesion_features.csv\")\n"
     ]
    }
   ],
   "source": [
    "import pandas as pd\n",
    "features_df = pd.read_csv(\"/home/jbetancur/Desktop/codes/clustering/feature_extraction/output/wavelet_pyradiomic_aggregated_lesion_features.csv\")\n",
    "patients_df = pd.read_excel(\"/home/jbetancur/Desktop/codes/clustering/data/Metadata/25-11-2025_xnatt_brain.xlsx\")\n"
   ]
  },
  {
   "cell_type": "code",
   "execution_count": 10,
   "metadata": {},
   "outputs": [
    {
     "data": {
      "text/html": [
       "<div>\n",
       "<style scoped>\n",
       "    .dataframe tbody tr th:only-of-type {\n",
       "        vertical-align: middle;\n",
       "    }\n",
       "\n",
       "    .dataframe tbody tr th {\n",
       "        vertical-align: top;\n",
       "    }\n",
       "\n",
       "    .dataframe thead th {\n",
       "        text-align: right;\n",
       "    }\n",
       "</style>\n",
       "<table border=\"1\" class=\"dataframe\">\n",
       "  <thead>\n",
       "    <tr style=\"text-align: right;\">\n",
       "      <th></th>\n",
       "      <th>label_id</th>\n",
       "      <th>num_voxels</th>\n",
       "      <th>volume_physical</th>\n",
       "      <th>T1_3d_original_shape_Elongation</th>\n",
       "      <th>T1_3d_original_shape_Flatness</th>\n",
       "      <th>T1_3d_original_shape_LeastAxisLength</th>\n",
       "      <th>T1_3d_original_shape_MajorAxisLength</th>\n",
       "      <th>T1_3d_original_shape_Maximum2DDiameterColumn</th>\n",
       "      <th>T1_3d_original_shape_Maximum2DDiameterRow</th>\n",
       "      <th>T1_3d_original_shape_Maximum2DDiameterSlice</th>\n",
       "      <th>...</th>\n",
       "      <th>QSM_2d_original_ngtdm_Strength</th>\n",
       "      <th>PatientID</th>\n",
       "      <th>FolderType</th>\n",
       "      <th>YearFolder</th>\n",
       "      <th>T1_3d_error</th>\n",
       "      <th>T1_2d_error</th>\n",
       "      <th>T2_3d_error</th>\n",
       "      <th>T2_2d_error</th>\n",
       "      <th>QSM_3d_error</th>\n",
       "      <th>QSM_2d_error</th>\n",
       "    </tr>\n",
       "  </thead>\n",
       "  <tbody>\n",
       "    <tr>\n",
       "      <th>0</th>\n",
       "      <td>1</td>\n",
       "      <td>17</td>\n",
       "      <td>16.999091</td>\n",
       "      <td>0.956726</td>\n",
       "      <td>0.591200</td>\n",
       "      <td>1.986722</td>\n",
       "      <td>3.360493</td>\n",
       "      <td>3.162125</td>\n",
       "      <td>3.162278</td>\n",
       "      <td>3.605492</td>\n",
       "      <td>...</td>\n",
       "      <td>0.912548</td>\n",
       "      <td>14109676</td>\n",
       "      <td>baseline</td>\n",
       "      <td>2022</td>\n",
       "      <td>NaN</td>\n",
       "      <td>NaN</td>\n",
       "      <td>NaN</td>\n",
       "      <td>NaN</td>\n",
       "      <td>NaN</td>\n",
       "      <td>NaN</td>\n",
       "    </tr>\n",
       "    <tr>\n",
       "      <th>1</th>\n",
       "      <td>2</td>\n",
       "      <td>2</td>\n",
       "      <td>1.999893</td>\n",
       "      <td>NaN</td>\n",
       "      <td>NaN</td>\n",
       "      <td>NaN</td>\n",
       "      <td>NaN</td>\n",
       "      <td>NaN</td>\n",
       "      <td>NaN</td>\n",
       "      <td>NaN</td>\n",
       "      <td>...</td>\n",
       "      <td>NaN</td>\n",
       "      <td>14109676</td>\n",
       "      <td>baseline</td>\n",
       "      <td>2022</td>\n",
       "      <td>mask has too few dimensions (number of dimensi...</td>\n",
       "      <td>mask has too few dimensions (number of dimensi...</td>\n",
       "      <td>mask has too few dimensions (number of dimensi...</td>\n",
       "      <td>mask has too few dimensions (number of dimensi...</td>\n",
       "      <td>mask has too few dimensions (number of dimensi...</td>\n",
       "      <td>mask has too few dimensions (number of dimensi...</td>\n",
       "    </tr>\n",
       "    <tr>\n",
       "      <th>2</th>\n",
       "      <td>3</td>\n",
       "      <td>12</td>\n",
       "      <td>11.999358</td>\n",
       "      <td>0.612405</td>\n",
       "      <td>0.612405</td>\n",
       "      <td>2.000000</td>\n",
       "      <td>3.265812</td>\n",
       "      <td>3.162125</td>\n",
       "      <td>2.236068</td>\n",
       "      <td>3.162125</td>\n",
       "      <td>...</td>\n",
       "      <td>1.153846</td>\n",
       "      <td>14109676</td>\n",
       "      <td>baseline</td>\n",
       "      <td>2022</td>\n",
       "      <td>NaN</td>\n",
       "      <td>NaN</td>\n",
       "      <td>NaN</td>\n",
       "      <td>NaN</td>\n",
       "      <td>NaN</td>\n",
       "      <td>NaN</td>\n",
       "    </tr>\n",
       "    <tr>\n",
       "      <th>3</th>\n",
       "      <td>4</td>\n",
       "      <td>45</td>\n",
       "      <td>44.997593</td>\n",
       "      <td>0.557967</td>\n",
       "      <td>0.000000</td>\n",
       "      <td>0.000000</td>\n",
       "      <td>10.303593</td>\n",
       "      <td>5.999679</td>\n",
       "      <td>9.000000</td>\n",
       "      <td>10.295500</td>\n",
       "      <td>...</td>\n",
       "      <td>0.145467</td>\n",
       "      <td>14109676</td>\n",
       "      <td>baseline</td>\n",
       "      <td>2022</td>\n",
       "      <td>NaN</td>\n",
       "      <td>NaN</td>\n",
       "      <td>NaN</td>\n",
       "      <td>NaN</td>\n",
       "      <td>NaN</td>\n",
       "      <td>NaN</td>\n",
       "    </tr>\n",
       "    <tr>\n",
       "      <th>4</th>\n",
       "      <td>5</td>\n",
       "      <td>4</td>\n",
       "      <td>3.999786</td>\n",
       "      <td>0.999947</td>\n",
       "      <td>0.000000</td>\n",
       "      <td>0.000000</td>\n",
       "      <td>2.000000</td>\n",
       "      <td>1.999893</td>\n",
       "      <td>2.000000</td>\n",
       "      <td>2.236044</td>\n",
       "      <td>...</td>\n",
       "      <td>1.000000</td>\n",
       "      <td>14109676</td>\n",
       "      <td>baseline</td>\n",
       "      <td>2022</td>\n",
       "      <td>NaN</td>\n",
       "      <td>NaN</td>\n",
       "      <td>NaN</td>\n",
       "      <td>NaN</td>\n",
       "      <td>NaN</td>\n",
       "      <td>NaN</td>\n",
       "    </tr>\n",
       "  </tbody>\n",
       "</table>\n",
       "<p>5 rows × 654 columns</p>\n",
       "</div>"
      ],
      "text/plain": [
       "   label_id  num_voxels  volume_physical  T1_3d_original_shape_Elongation  \\\n",
       "0         1          17        16.999091                         0.956726   \n",
       "1         2           2         1.999893                              NaN   \n",
       "2         3          12        11.999358                         0.612405   \n",
       "3         4          45        44.997593                         0.557967   \n",
       "4         5           4         3.999786                         0.999947   \n",
       "\n",
       "   T1_3d_original_shape_Flatness  T1_3d_original_shape_LeastAxisLength  \\\n",
       "0                       0.591200                              1.986722   \n",
       "1                            NaN                                   NaN   \n",
       "2                       0.612405                              2.000000   \n",
       "3                       0.000000                              0.000000   \n",
       "4                       0.000000                              0.000000   \n",
       "\n",
       "   T1_3d_original_shape_MajorAxisLength  \\\n",
       "0                              3.360493   \n",
       "1                                   NaN   \n",
       "2                              3.265812   \n",
       "3                             10.303593   \n",
       "4                              2.000000   \n",
       "\n",
       "   T1_3d_original_shape_Maximum2DDiameterColumn  \\\n",
       "0                                      3.162125   \n",
       "1                                           NaN   \n",
       "2                                      3.162125   \n",
       "3                                      5.999679   \n",
       "4                                      1.999893   \n",
       "\n",
       "   T1_3d_original_shape_Maximum2DDiameterRow  \\\n",
       "0                                   3.162278   \n",
       "1                                        NaN   \n",
       "2                                   2.236068   \n",
       "3                                   9.000000   \n",
       "4                                   2.000000   \n",
       "\n",
       "   T1_3d_original_shape_Maximum2DDiameterSlice  ...  \\\n",
       "0                                     3.605492  ...   \n",
       "1                                          NaN  ...   \n",
       "2                                     3.162125  ...   \n",
       "3                                    10.295500  ...   \n",
       "4                                     2.236044  ...   \n",
       "\n",
       "   QSM_2d_original_ngtdm_Strength  PatientID  FolderType  YearFolder  \\\n",
       "0                        0.912548   14109676    baseline        2022   \n",
       "1                             NaN   14109676    baseline        2022   \n",
       "2                        1.153846   14109676    baseline        2022   \n",
       "3                        0.145467   14109676    baseline        2022   \n",
       "4                        1.000000   14109676    baseline        2022   \n",
       "\n",
       "                                         T1_3d_error  \\\n",
       "0                                                NaN   \n",
       "1  mask has too few dimensions (number of dimensi...   \n",
       "2                                                NaN   \n",
       "3                                                NaN   \n",
       "4                                                NaN   \n",
       "\n",
       "                                         T1_2d_error  \\\n",
       "0                                                NaN   \n",
       "1  mask has too few dimensions (number of dimensi...   \n",
       "2                                                NaN   \n",
       "3                                                NaN   \n",
       "4                                                NaN   \n",
       "\n",
       "                                         T2_3d_error  \\\n",
       "0                                                NaN   \n",
       "1  mask has too few dimensions (number of dimensi...   \n",
       "2                                                NaN   \n",
       "3                                                NaN   \n",
       "4                                                NaN   \n",
       "\n",
       "                                         T2_2d_error  \\\n",
       "0                                                NaN   \n",
       "1  mask has too few dimensions (number of dimensi...   \n",
       "2                                                NaN   \n",
       "3                                                NaN   \n",
       "4                                                NaN   \n",
       "\n",
       "                                        QSM_3d_error  \\\n",
       "0                                                NaN   \n",
       "1  mask has too few dimensions (number of dimensi...   \n",
       "2                                                NaN   \n",
       "3                                                NaN   \n",
       "4                                                NaN   \n",
       "\n",
       "                                        QSM_2d_error  \n",
       "0                                                NaN  \n",
       "1  mask has too few dimensions (number of dimensi...  \n",
       "2                                                NaN  \n",
       "3                                                NaN  \n",
       "4                                                NaN  \n",
       "\n",
       "[5 rows x 654 columns]"
      ]
     },
     "execution_count": 10,
     "metadata": {},
     "output_type": "execute_result"
    }
   ],
   "source": [
    "features_df.head()"
   ]
  },
  {
   "cell_type": "code",
   "execution_count": 8,
   "metadata": {},
   "outputs": [
    {
     "data": {
      "text/plain": [
       "numpy.int64"
      ]
     },
     "execution_count": 8,
     "metadata": {},
     "output_type": "execute_result"
    }
   ],
   "source": [
    "type(patients_df['patient'][0])"
   ]
  },
  {
   "cell_type": "code",
   "execution_count": 3,
   "metadata": {},
   "outputs": [
    {
     "name": "stdout",
     "output_type": "stream",
     "text": [
      "(87, 471)\n",
      "(44, 471)\n"
     ]
    }
   ],
   "source": [
    "patients_only = patients_df[patients_df['patient'] == 1]\n",
    "controls_only = patients_df[patients_df['patient'] == 0]\n",
    "\n",
    "print(patients_only.shape)\n",
    "print(controls_only.shape)"
   ]
  },
  {
   "cell_type": "code",
   "execution_count": 9,
   "metadata": {},
   "outputs": [
    {
     "name": "stdout",
     "output_type": "stream",
     "text": [
      "(2786, 654)\n",
      "(848, 654)\n"
     ]
    }
   ],
   "source": [
    "feature_patients = features_df[features_df['PatientID'].isin(patients_only['subject_id'])]\n",
    "feature_controls = features_df[features_df['PatientID'].isin(controls_only['subject_id'])]\n",
    "\n",
    "print(feature_patients.shape)\n",
    "print(feature_controls.shape)"
   ]
  },
  {
   "cell_type": "code",
   "execution_count": 12,
   "metadata": {},
   "outputs": [
    {
     "name": "stdout",
     "output_type": "stream",
     "text": [
      "Unique patient count in baseline:  40\n",
      "Unique patient count in followup:  32\n"
     ]
    }
   ],
   "source": [
    "baseline_count = feature_patients[feature_patients['FolderType'].str.lower() == 'baseline']['PatientID'].nunique()\n",
    "followup_count = feature_patients[feature_patients['FolderType'].str.lower() == 'follow_up']['PatientID'].nunique()\n",
    "\n",
    "print(\"Unique patient count in baseline: \", baseline_count)\n",
    "print(\"Unique patient count in followup: \", followup_count)"
   ]
  },
  {
   "cell_type": "code",
   "execution_count": 15,
   "metadata": {},
   "outputs": [
    {
     "name": "stdout",
     "output_type": "stream",
     "text": [
      "Unique control count in baseline: 23\n",
      "Unique control count in follow up: 20\n"
     ]
    }
   ],
   "source": [
    "baseline_count_controls = feature_controls[feature_controls['FolderType'].str.lower() == 'baseline']['PatientID'].nunique()\n",
    "followup_count_controls = feature_controls[feature_controls['FolderType'].str.lower() == 'follow_up']['PatientID'].nunique()\n",
    "\n",
    "print(\"Unique control count in baseline:\", baseline_count_controls)\n",
    "print(\"Unique control count in follow up:\", followup_count_controls)"
   ]
  },
  {
   "cell_type": "code",
   "execution_count": 17,
   "metadata": {},
   "outputs": [
    {
     "name": "stdout",
     "output_type": "stream",
     "text": [
      "Patients only at baseline:  {12521539, 13146694, 14543433, 14370736, 12624080, 10847986, 11974835, 16884118, 12591126, 16836063}\n",
      "Patients only at followup:  {10428634, 10913259}\n"
     ]
    }
   ],
   "source": [
    "baseline_ids = feature_patients[feature_patients['FolderType'].str.lower() == 'baseline']['PatientID'].unique().tolist()\n",
    "followup_ids = feature_patients[feature_patients['FolderType'].str.lower() == 'follow_up']['PatientID'].unique().tolist()\n",
    "only_baseline = set(baseline_ids) - set(followup_ids)\n",
    "only_followup = set(followup_ids) - set(baseline_ids)\n",
    "\n",
    "print(\"Patients only at baseline: \", only_baseline)\n",
    "print(\"Patients only at followup: \", only_followup)"
   ]
  },
  {
   "cell_type": "markdown",
   "metadata": {},
   "source": [
    "- **10847986** - only has baseline\n",
    "- **11974835** - only has baseline\n",
    "- **16884118** - only has baseline"
   ]
  },
  {
   "cell_type": "markdown",
   "metadata": {},
   "source": [
    "12521539 -> empty mask, error itksnap.\n",
    "12591126 -> It actually has the masks in the correct format. We would need to re register the mask. SHould be easy with the transformation matrix file.\n",
    "12624080 -> Nothing from XNAT.\n",
    "13146694 -> Nothing from XNAT.\n",
    "14370736 -> Nothing from XNAT.\n",
    "14543433 -> Nothing from XNAT.\n",
    "16836063 -> Nothing from XNAT."
   ]
  }
 ],
 "metadata": {
  "kernelspec": {
   "display_name": "clustering_env",
   "language": "python",
   "name": "python3"
  },
  "language_info": {
   "codemirror_mode": {
    "name": "ipython",
    "version": 3
   },
   "file_extension": ".py",
   "mimetype": "text/x-python",
   "name": "python",
   "nbconvert_exporter": "python",
   "pygments_lexer": "ipython3",
   "version": "3.12.3"
  }
 },
 "nbformat": 4,
 "nbformat_minor": 2
}
