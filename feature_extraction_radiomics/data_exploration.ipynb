{
 "cells": [
  {
   "cell_type": "markdown",
   "metadata": {},
   "source": [
    "# EXploration of features"
   ]
  },
  {
   "cell_type": "code",
   "execution_count": 1,
   "metadata": {},
   "outputs": [],
   "source": [
    "import os\n",
    "import glob\n",
    "import nibabel as nib\n",
    "import pandas as pd\n",
    "from data_loader_folders import load_patient_files"
   ]
  },
  {
   "cell_type": "code",
   "execution_count": 3,
   "metadata": {},
   "outputs": [],
   "source": [
    "def check_qsm_dimensions(root_dir, folder_type, output_csv_path):\n",
    "    \"\"\"\n",
    "    Iterates over the patient folders in root_dir (using load_patient_files),\n",
    "    loads the QSM image for each patient, and checks if any of its voxel spacings\n",
    "    (x, y, z) are different than 1.\n",
    "    \n",
    "    For each dimension that is not equal to 1, a record is added with:\n",
    "      - PatientID\n",
    "      - FolderType (e.g., \"baseline\" or \"follow_up\")\n",
    "      - Year (folder name)\n",
    "      - Dimension (e.g., 'x', 'y', or 'z')\n",
    "      - Spacing value\n",
    "    \n",
    "    The collected records are then saved to a CSV file at output_csv_path.\n",
    "    \n",
    "    Parameters\n",
    "    ----------\n",
    "    root_dir : str\n",
    "        Path to the root folder (e.g., baseline or follow-up).\n",
    "    folder_type : str\n",
    "        Label indicating the folder type (\"baseline\" or \"follow_up\").\n",
    "    output_csv_path : str\n",
    "        File path for the output CSV.\n",
    "    \"\"\"\n",
    "    # Call your existing function to get the patient records.\n",
    "    records = load_patient_files(root_dir, folder_type)\n",
    "    \n",
    "    results = []\n",
    "    # Define dimension labels for clarity.\n",
    "    dim_labels = ['x', 'y', 'z']\n",
    "    \n",
    "    for rec in records:\n",
    "        qsm_path = rec[\"QSM\"]\n",
    "        # Load the QSM image using nibabel.\n",
    "        img = nib.load(qsm_path)\n",
    "        # Get the voxel spacing for the first 3 dimensions.\n",
    "        spacing = img.header.get_zooms()[:3]\n",
    "        \n",
    "        # Check each spatial dimension.\n",
    "        for label, sp in zip(dim_labels, spacing):\n",
    "            if sp != 1:\n",
    "                results.append({\n",
    "                    \"PatientID\": rec[\"PatientID\"],\n",
    "                    \"FolderType\": rec[\"FolderType\"],\n",
    "                    \"Year\": rec[\"Year\"],\n",
    "                    \"Dimension\": label,\n",
    "                    \"Spacing\": sp\n",
    "                })\n",
    "    \n",
    "    # Create a DataFrame from the results and write to CSV.\n",
    "    df = pd.DataFrame(results)\n",
    "    df.to_csv(output_csv_path, index=False)\n"
   ]
  },
  {
   "cell_type": "code",
   "execution_count": 4,
   "metadata": {},
   "outputs": [],
   "source": [
    "baseline_dir = \"/home/jbetancur/Desktop/codes/python_qsm/exploratory_pipeline/data_automatization/clean_baseline\"\n",
    "followup_dir = \"/home/jbetancur/Desktop/codes/python_qsm/exploratory_pipeline/data_automatization/clean_follow_up\"\n",
    "\n",
    "check_qsm_dimensions(baseline_dir, \"baseline\", output_csv_path=\"/home/jbetancur/Desktop/codes/clustering/feature_extraction/output/baseline_spacing.csv\")\n",
    "check_qsm_dimensions(followup_dir, \"followup\", output_csv_path=\"/home/jbetancur/Desktop/codes/clustering/feature_extraction/output/follow_up_spacing.csv\")"
   ]
  },
  {
   "cell_type": "code",
   "execution_count": null,
   "metadata": {},
   "outputs": [],
   "source": []
  }
 ],
 "metadata": {
  "kernelspec": {
   "display_name": "clustering_env",
   "language": "python",
   "name": "python3"
  },
  "language_info": {
   "codemirror_mode": {
    "name": "ipython",
    "version": 3
   },
   "file_extension": ".py",
   "mimetype": "text/x-python",
   "name": "python",
   "nbconvert_exporter": "python",
   "pygments_lexer": "ipython3",
   "version": "3.12.3"
  }
 },
 "nbformat": 4,
 "nbformat_minor": 2
}
