{
 "cells": [
  {
   "cell_type": "markdown",
   "metadata": {},
   "source": [
    "# EXploration of features"
   ]
  },
  {
   "cell_type": "code",
   "execution_count": 1,
   "metadata": {},
   "outputs": [],
   "source": [
    "import pandas as pd"
   ]
  },
  {
   "cell_type": "code",
   "execution_count": 3,
   "metadata": {},
   "outputs": [
    {
     "data": {
      "text/plain": [
       "Index(['label_id', 'num_voxels', 'volume_physical', 'T1_mean', 'T1_std',\n",
       "       'T2_mean', 'T2_std', 'QSM_mean', 'QSM_std', 'T1_min', 'T1_max',\n",
       "       'T1_range', 'T1_median', 'T1_percentile_10', 'T1_percentile_90',\n",
       "       'T1_skewness', 'T1_kurtosis', 'T1_energy', 'T1_entropy', 'T2_min',\n",
       "       'T2_max', 'T2_range', 'T2_median', 'T2_percentile_10',\n",
       "       'T2_percentile_90', 'T2_skewness', 'T2_kurtosis', 'T2_energy',\n",
       "       'T2_entropy', 'QSM_min', 'QSM_max', 'QSM_range', 'QSM_median',\n",
       "       'QSM_percentile_10', 'QSM_percentile_90', 'QSM_skewness',\n",
       "       'QSM_kurtosis', 'QSM_energy', 'QSM_entropy', 'glcm_contrast',\n",
       "       'glcm_dissimilarity', 'glcm_homogeneity', 'glcm_energy',\n",
       "       'glcm_correlation', 'glcm_asm', 'glcm_entropy', 'glcm_max_probability',\n",
       "       'glcm_cluster_shade', 'glcm_cluster_prominence', 'glrlm_mean_run',\n",
       "       'glrlm_short_run_emphasis', 'glrlm_long_run_emphasis',\n",
       "       'glrlm_gray_level_nonuniformity', 'glrlm_run_length_nonuniformity',\n",
       "       'PatientID', 'FolderType', 'YearFolder'],\n",
       "      dtype='object')"
      ]
     },
     "execution_count": 3,
     "metadata": {},
     "output_type": "execute_result"
    }
   ],
   "source": [
    "df = pd.read_csv(\"/home/jbetancur/Desktop/codes/clustering/feature_extraction/output/aggregated_lesion_features.csv\")\n",
    "df.columns"
   ]
  }
 ],
 "metadata": {
  "kernelspec": {
   "display_name": "clustering_env",
   "language": "python",
   "name": "python3"
  },
  "language_info": {
   "codemirror_mode": {
    "name": "ipython",
    "version": 3
   },
   "file_extension": ".py",
   "mimetype": "text/x-python",
   "name": "python",
   "nbconvert_exporter": "python",
   "pygments_lexer": "ipython3",
   "version": "3.12.3"
  }
 },
 "nbformat": 4,
 "nbformat_minor": 2
}
